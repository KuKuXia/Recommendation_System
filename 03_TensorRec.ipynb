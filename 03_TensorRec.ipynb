{
 "cells": [
  {
   "cell_type": "markdown",
   "metadata": {},
   "source": [
    "# Recommender Systems and TensorRec\n",
    "\n",
    "## System Overview\n",
    "\n",
    "TensorRec is a Python package for building recommender systems. A TensorRec recommender system consumes three pieces of input data: user features, item features, and interactions. Based on the user/item features, the system will predict which items to recommend. The interactions are used when fitting the model: predictions are compared to the interactions and a loss/penalty is calculated, which the system learns to decrease.\n",
    "![TensorRec](https://raw.githubusercontent.com/jfkirk/tensorrec/master/examples/system_diagram.png)"
   ]
  },
  {
   "cell_type": "code",
   "execution_count": 1,
   "metadata": {
    "ExecuteTime": {
     "end_time": "2019-07-16T08:25:37.628929Z",
     "start_time": "2019-07-16T08:25:37.627487Z"
    }
   },
   "outputs": [],
   "source": [
    "# install the tensorrec packages\n",
    "# !pip install tensorrec"
   ]
  },
  {
   "cell_type": "code",
   "execution_count": 2,
   "metadata": {
    "ExecuteTime": {
     "end_time": "2019-07-16T08:25:38.940061Z",
     "start_time": "2019-07-16T08:25:37.630039Z"
    }
   },
   "outputs": [],
   "source": [
    "from collections import defaultdict\n",
    "import csv\n",
    "import numpy as np\n",
    "import random\n",
    "from scipy import sparse\n",
    "\n",
    "from sklearn.preprocessing import MultiLabelBinarizer\n",
    "\n",
    "import logging\n",
    "import tensorrec\n"
   ]
  },
  {
   "cell_type": "code",
   "execution_count": 3,
   "metadata": {
    "ExecuteTime": {
     "end_time": "2019-07-16T08:25:38.943517Z",
     "start_time": "2019-07-16T08:25:38.941305Z"
    }
   },
   "outputs": [],
   "source": [
    "logging.getLogger().setLevel(logging.INFO)"
   ]
  },
  {
   "cell_type": "code",
   "execution_count": 4,
   "metadata": {
    "ExecuteTime": {
     "end_time": "2019-07-16T08:25:57.394349Z",
     "start_time": "2019-07-16T08:25:38.944496Z"
    }
   },
   "outputs": [
    {
     "name": "stdout",
     "output_type": "stream",
     "text": [
      "Loading Ratings\n"
     ]
    }
   ],
   "source": [
    "# please download the MovieLens dataset, including ratings.csv\n",
    "# https://grouplens.org/datasets/movielens/\n",
    "\n",
    "print('Loading Ratings')\n",
    "with open('./tmp/dataset/ml-20m/ratings.csv', 'r') as ratings_file:\n",
    "    ratings_file_reader = csv.reader(ratings_file)\n",
    "    raw_ratings = list(ratings_file_reader)\n",
    "    raw_ratings_header = raw_ratings.pop(0)\n",
    "\n",
    "# Iterate through the input to map MovieLens IDs to new internal IDs\n",
    "# The new internal IDs will be created by the defaultdict on insertion\n",
    "movielens_to_internal_user_ids = defaultdict(lambda: len(movielens_to_internal_user_ids))\n",
    "movielens_to_internal_item_ids = defaultdict(lambda: len(movielens_to_internal_item_ids))"
   ]
  },
  {
   "cell_type": "code",
   "execution_count": 5,
   "metadata": {
    "ExecuteTime": {
     "end_time": "2019-07-16T08:26:11.205816Z",
     "start_time": "2019-07-16T08:25:57.395566Z"
    }
   },
   "outputs": [],
   "source": [
    "for row in raw_ratings:\n",
    "    row[0] = movielens_to_internal_user_ids[int(row[0])]\n",
    "    row[1] = movielens_to_internal_item_ids[int(row[1])]\n",
    "    row[2] = float(row[2])\n",
    "n_users = len(movielens_to_internal_user_ids)\n",
    "n_items = len(movielens_to_internal_item_ids)"
   ]
  },
  {
   "cell_type": "code",
   "execution_count": 6,
   "metadata": {
    "ExecuteTime": {
     "end_time": "2019-07-16T08:26:11.211017Z",
     "start_time": "2019-07-16T08:26:11.208581Z"
    }
   },
   "outputs": [
    {
     "name": "stdout",
     "output_type": "stream",
     "text": [
      "Raw rating example:\n",
      "['userId', 'movieId', 'rating', 'timestamp']\n",
      "[0, 0, 3.5, '1112486027']\n"
     ]
    }
   ],
   "source": [
    "# Look at an example raw rating\n",
    "print(\"Raw rating example:\\n{}\\n{}\".format(raw_ratings_header, raw_ratings[0]))"
   ]
  },
  {
   "cell_type": "code",
   "execution_count": 7,
   "metadata": {
    "ExecuteTime": {
     "end_time": "2019-07-16T08:26:26.950483Z",
     "start_time": "2019-07-16T08:26:11.212384Z"
    }
   },
   "outputs": [
    {
     "name": "stdout",
     "output_type": "stream",
     "text": [
      "16000210 train ratings, 4000053 test ratings\n"
     ]
    }
   ],
   "source": [
    "# Shuffle the ratings and split them in to train/test sets 80%/20%\n",
    "random.shuffle(raw_ratings)  # Shuffles the list in-place\n",
    "cutoff = int(.8 * len(raw_ratings))\n",
    "train_ratings = raw_ratings[:cutoff]\n",
    "test_ratings = raw_ratings[cutoff:]\n",
    "print(\"{} train ratings, {} test ratings\".format(len(train_ratings), len(test_ratings)))"
   ]
  },
  {
   "cell_type": "code",
   "execution_count": 8,
   "metadata": {
    "ExecuteTime": {
     "end_time": "2019-07-16T08:26:26.954296Z",
     "start_time": "2019-07-16T08:26:26.951663Z"
    }
   },
   "outputs": [],
   "source": [
    "# This method converts a list of (user, item, rating, time) to a sparse matrix\n",
    "def interactions_list_to_sparse_matrix(interactions):\n",
    "    users_column, items_column, ratings_column, _ = zip(*interactions)\n",
    "    return sparse.coo_matrix((ratings_column, (users_column, items_column)),\n",
    "                             shape=(n_users, n_items))\n"
   ]
  },
  {
   "cell_type": "code",
   "execution_count": 9,
   "metadata": {
    "ExecuteTime": {
     "end_time": "2019-07-16T08:27:32.674446Z",
     "start_time": "2019-07-16T08:26:26.955290Z"
    }
   },
   "outputs": [],
   "source": [
    "# Create sparse matrices of interaction data\n",
    "sparse_train_ratings = interactions_list_to_sparse_matrix(train_ratings)\n",
    "sparse_test_ratings = interactions_list_to_sparse_matrix(test_ratings)"
   ]
  },
  {
   "cell_type": "code",
   "execution_count": 10,
   "metadata": {
    "ExecuteTime": {
     "end_time": "2019-07-16T08:27:32.678463Z",
     "start_time": "2019-07-16T08:27:32.676188Z"
    }
   },
   "outputs": [],
   "source": [
    "# Construct indicator features for users and items\n",
    "user_indicator_features = sparse.identity(n_users)\n",
    "item_indicator_features = sparse.identity(n_items)"
   ]
  },
  {
   "cell_type": "code",
   "execution_count": 11,
   "metadata": {
    "ExecuteTime": {
     "end_time": "2019-07-16T08:27:32.700571Z",
     "start_time": "2019-07-16T08:27:32.679595Z"
    }
   },
   "outputs": [],
   "source": [
    "# Build a matrix factorization collaborative filter model\n",
    "cf_model = tensorrec.TensorRec(n_components=5)"
   ]
  },
  {
   "cell_type": "code",
   "execution_count": 12,
   "metadata": {
    "ExecuteTime": {
     "end_time": "2019-07-16T08:27:46.981965Z",
     "start_time": "2019-07-16T08:27:32.702296Z"
    }
   },
   "outputs": [
    {
     "name": "stdout",
     "output_type": "stream",
     "text": [
      "Training collaborative filter\n"
     ]
    },
    {
     "name": "stderr",
     "output_type": "stream",
     "text": [
      "/home/longxiajun/MySoftware/anaconda3/envs/CV/lib/python3.6/site-packages/tensorflow/python/ops/gradients_util.py:93: UserWarning: Converting sparse IndexedSlices to a dense Tensor of unknown shape. This may consume a large amount of memory.\n",
      "  \"Converting sparse IndexedSlices to a dense Tensor of unknown shape. \"\n",
      "/home/longxiajun/MySoftware/anaconda3/envs/CV/lib/python3.6/site-packages/tensorflow/python/ops/gradients_util.py:93: UserWarning: Converting sparse IndexedSlices to a dense Tensor of unknown shape. This may consume a large amount of memory.\n",
      "  \"Converting sparse IndexedSlices to a dense Tensor of unknown shape. \"\n"
     ]
    },
    {
     "ename": "InternalError",
     "evalue": "Dst tensor is not initialized.\n\t [[node IteratorGetNext_4 (defined at /home/longxiajun/MySoftware/anaconda3/envs/CV/lib/python3.6/site-packages/tensorrec/tensorrec.py:283) ]]\n\nErrors may have originated from an input operation.\nInput Source operations connected to node IteratorGetNext_4:\n IteratorV2_2 (defined at /home/longxiajun/MySoftware/anaconda3/envs/CV/lib/python3.6/site-packages/tensorrec/input_utils.py:18)\n\nOriginal stack trace for 'IteratorGetNext_4':\n  File \"/home/longxiajun/MySoftware/anaconda3/envs/CV/lib/python3.6/runpy.py\", line 193, in _run_module_as_main\n    \"__main__\", mod_spec)\n  File \"/home/longxiajun/MySoftware/anaconda3/envs/CV/lib/python3.6/runpy.py\", line 85, in _run_code\n    exec(code, run_globals)\n  File \"/home/longxiajun/MySoftware/anaconda3/envs/CV/lib/python3.6/site-packages/ipykernel_launcher.py\", line 16, in <module>\n    app.launch_new_instance()\n  File \"/home/longxiajun/MySoftware/anaconda3/envs/CV/lib/python3.6/site-packages/traitlets/config/application.py\", line 658, in launch_instance\n    app.start()\n  File \"/home/longxiajun/MySoftware/anaconda3/envs/CV/lib/python3.6/site-packages/ipykernel/kernelapp.py\", line 505, in start\n    self.io_loop.start()\n  File \"/home/longxiajun/MySoftware/anaconda3/envs/CV/lib/python3.6/site-packages/tornado/platform/asyncio.py\", line 148, in start\n    self.asyncio_loop.run_forever()\n  File \"/home/longxiajun/MySoftware/anaconda3/envs/CV/lib/python3.6/asyncio/base_events.py\", line 438, in run_forever\n    self._run_once()\n  File \"/home/longxiajun/MySoftware/anaconda3/envs/CV/lib/python3.6/asyncio/base_events.py\", line 1451, in _run_once\n    handle._run()\n  File \"/home/longxiajun/MySoftware/anaconda3/envs/CV/lib/python3.6/asyncio/events.py\", line 145, in _run\n    self._callback(*self._args)\n  File \"/home/longxiajun/MySoftware/anaconda3/envs/CV/lib/python3.6/site-packages/tornado/ioloop.py\", line 690, in <lambda>\n    lambda f: self._run_callback(functools.partial(callback, future))\n  File \"/home/longxiajun/MySoftware/anaconda3/envs/CV/lib/python3.6/site-packages/tornado/ioloop.py\", line 743, in _run_callback\n    ret = callback()\n  File \"/home/longxiajun/MySoftware/anaconda3/envs/CV/lib/python3.6/site-packages/tornado/gen.py\", line 787, in inner\n    self.run()\n  File \"/home/longxiajun/MySoftware/anaconda3/envs/CV/lib/python3.6/site-packages/tornado/gen.py\", line 748, in run\n    yielded = self.gen.send(value)\n  File \"/home/longxiajun/MySoftware/anaconda3/envs/CV/lib/python3.6/site-packages/ipykernel/kernelbase.py\", line 378, in dispatch_queue\n    yield self.process_one()\n  File \"/home/longxiajun/MySoftware/anaconda3/envs/CV/lib/python3.6/site-packages/tornado/gen.py\", line 225, in wrapper\n    runner = Runner(result, future, yielded)\n  File \"/home/longxiajun/MySoftware/anaconda3/envs/CV/lib/python3.6/site-packages/tornado/gen.py\", line 714, in __init__\n    self.run()\n  File \"/home/longxiajun/MySoftware/anaconda3/envs/CV/lib/python3.6/site-packages/tornado/gen.py\", line 748, in run\n    yielded = self.gen.send(value)\n  File \"/home/longxiajun/MySoftware/anaconda3/envs/CV/lib/python3.6/site-packages/ipykernel/kernelbase.py\", line 365, in process_one\n    yield gen.maybe_future(dispatch(*args))\n  File \"/home/longxiajun/MySoftware/anaconda3/envs/CV/lib/python3.6/site-packages/tornado/gen.py\", line 209, in wrapper\n    yielded = next(result)\n  File \"/home/longxiajun/MySoftware/anaconda3/envs/CV/lib/python3.6/site-packages/ipykernel/kernelbase.py\", line 272, in dispatch_shell\n    yield gen.maybe_future(handler(stream, idents, msg))\n  File \"/home/longxiajun/MySoftware/anaconda3/envs/CV/lib/python3.6/site-packages/tornado/gen.py\", line 209, in wrapper\n    yielded = next(result)\n  File \"/home/longxiajun/MySoftware/anaconda3/envs/CV/lib/python3.6/site-packages/ipykernel/kernelbase.py\", line 542, in execute_request\n    user_expressions, allow_stdin,\n  File \"/home/longxiajun/MySoftware/anaconda3/envs/CV/lib/python3.6/site-packages/tornado/gen.py\", line 209, in wrapper\n    yielded = next(result)\n  File \"/home/longxiajun/MySoftware/anaconda3/envs/CV/lib/python3.6/site-packages/ipykernel/ipkernel.py\", line 294, in do_execute\n    res = shell.run_cell(code, store_history=store_history, silent=silent)\n  File \"/home/longxiajun/MySoftware/anaconda3/envs/CV/lib/python3.6/site-packages/ipykernel/zmqshell.py\", line 536, in run_cell\n    return super(ZMQInteractiveShell, self).run_cell(*args, **kwargs)\n  File \"/home/longxiajun/MySoftware/anaconda3/envs/CV/lib/python3.6/site-packages/IPython/core/interactiveshell.py\", line 2854, in run_cell\n    raw_cell, store_history, silent, shell_futures)\n  File \"/home/longxiajun/MySoftware/anaconda3/envs/CV/lib/python3.6/site-packages/IPython/core/interactiveshell.py\", line 2880, in _run_cell\n    return runner(coro)\n  File \"/home/longxiajun/MySoftware/anaconda3/envs/CV/lib/python3.6/site-packages/IPython/core/async_helpers.py\", line 68, in _pseudo_sync_runner\n    coro.send(None)\n  File \"/home/longxiajun/MySoftware/anaconda3/envs/CV/lib/python3.6/site-packages/IPython/core/interactiveshell.py\", line 3057, in run_cell_async\n    interactivity=interactivity, compiler=compiler, result=result)\n  File \"/home/longxiajun/MySoftware/anaconda3/envs/CV/lib/python3.6/site-packages/IPython/core/interactiveshell.py\", line 3248, in run_ast_nodes\n    if (await self.run_code(code, result,  async_=asy)):\n  File \"/home/longxiajun/MySoftware/anaconda3/envs/CV/lib/python3.6/site-packages/IPython/core/interactiveshell.py\", line 3325, in run_code\n    exec(code_obj, self.user_global_ns, self.user_ns)\n  File \"<ipython-input-12-bfe307063572>\", line 5, in <module>\n    item_features=item_indicator_features)\n  File \"/home/longxiajun/MySoftware/anaconda3/envs/CV/lib/python3.6/site-packages/tensorrec/tensorrec.py\", line 537, in fit\n    n_sampled_items=n_sampled_items)\n  File \"/home/longxiajun/MySoftware/anaconda3/envs/CV/lib/python3.6/site-packages/tensorrec/tensorrec.py\", line 605, in fit_partial\n    self._build_tf_graph(n_user_features=n_user_features, n_item_features=n_item_features)\n  File \"/home/longxiajun/MySoftware/anaconda3/envs/CV/lib/python3.6/site-packages/tensorrec/tensorrec.py\", line 283, in _build_tf_graph\n    self.tf_interaction_iterator.get_next()\n  File \"/home/longxiajun/MySoftware/anaconda3/envs/CV/lib/python3.6/site-packages/tensorflow/python/data/ops/iterator_ops.py\", line 426, in get_next\n    output_shapes=self._structure._flat_shapes, name=name)\n  File \"/home/longxiajun/MySoftware/anaconda3/envs/CV/lib/python3.6/site-packages/tensorflow/python/ops/gen_dataset_ops.py\", line 1947, in iterator_get_next\n    output_shapes=output_shapes, name=name)\n  File \"/home/longxiajun/MySoftware/anaconda3/envs/CV/lib/python3.6/site-packages/tensorflow/python/framework/op_def_library.py\", line 788, in _apply_op_helper\n    op_def=op_def)\n  File \"/home/longxiajun/MySoftware/anaconda3/envs/CV/lib/python3.6/site-packages/tensorflow/python/util/deprecation.py\", line 507, in new_func\n    return func(*args, **kwargs)\n  File \"/home/longxiajun/MySoftware/anaconda3/envs/CV/lib/python3.6/site-packages/tensorflow/python/framework/ops.py\", line 3616, in create_op\n    op_def=op_def)\n  File \"/home/longxiajun/MySoftware/anaconda3/envs/CV/lib/python3.6/site-packages/tensorflow/python/framework/ops.py\", line 2005, in __init__\n    self._traceback = tf_stack.extract_stack()\n",
     "output_type": "error",
     "traceback": [
      "\u001b[0;31m---------------------------------------------------------------------------\u001b[0m",
      "\u001b[0;31mInternalError\u001b[0m                             Traceback (most recent call last)",
      "\u001b[0;32m~/MySoftware/anaconda3/envs/CV/lib/python3.6/site-packages/tensorflow/python/client/session.py\u001b[0m in \u001b[0;36m_do_call\u001b[0;34m(self, fn, *args)\u001b[0m\n\u001b[1;32m   1355\u001b[0m     \u001b[0;32mtry\u001b[0m\u001b[0;34m:\u001b[0m\u001b[0;34m\u001b[0m\u001b[0;34m\u001b[0m\u001b[0m\n\u001b[0;32m-> 1356\u001b[0;31m       \u001b[0;32mreturn\u001b[0m \u001b[0mfn\u001b[0m\u001b[0;34m(\u001b[0m\u001b[0;34m*\u001b[0m\u001b[0margs\u001b[0m\u001b[0;34m)\u001b[0m\u001b[0;34m\u001b[0m\u001b[0;34m\u001b[0m\u001b[0m\n\u001b[0m\u001b[1;32m   1357\u001b[0m     \u001b[0;32mexcept\u001b[0m \u001b[0merrors\u001b[0m\u001b[0;34m.\u001b[0m\u001b[0mOpError\u001b[0m \u001b[0;32mas\u001b[0m \u001b[0me\u001b[0m\u001b[0;34m:\u001b[0m\u001b[0;34m\u001b[0m\u001b[0;34m\u001b[0m\u001b[0m\n",
      "\u001b[0;32m~/MySoftware/anaconda3/envs/CV/lib/python3.6/site-packages/tensorflow/python/client/session.py\u001b[0m in \u001b[0;36m_run_fn\u001b[0;34m(feed_dict, fetch_list, target_list, options, run_metadata)\u001b[0m\n\u001b[1;32m   1340\u001b[0m       return self._call_tf_sessionrun(\n\u001b[0;32m-> 1341\u001b[0;31m           options, feed_dict, fetch_list, target_list, run_metadata)\n\u001b[0m\u001b[1;32m   1342\u001b[0m \u001b[0;34m\u001b[0m\u001b[0m\n",
      "\u001b[0;32m~/MySoftware/anaconda3/envs/CV/lib/python3.6/site-packages/tensorflow/python/client/session.py\u001b[0m in \u001b[0;36m_call_tf_sessionrun\u001b[0;34m(self, options, feed_dict, fetch_list, target_list, run_metadata)\u001b[0m\n\u001b[1;32m   1428\u001b[0m         \u001b[0mself\u001b[0m\u001b[0;34m.\u001b[0m\u001b[0m_session\u001b[0m\u001b[0;34m,\u001b[0m \u001b[0moptions\u001b[0m\u001b[0;34m,\u001b[0m \u001b[0mfeed_dict\u001b[0m\u001b[0;34m,\u001b[0m \u001b[0mfetch_list\u001b[0m\u001b[0;34m,\u001b[0m \u001b[0mtarget_list\u001b[0m\u001b[0;34m,\u001b[0m\u001b[0;34m\u001b[0m\u001b[0;34m\u001b[0m\u001b[0m\n\u001b[0;32m-> 1429\u001b[0;31m         run_metadata)\n\u001b[0m\u001b[1;32m   1430\u001b[0m \u001b[0;34m\u001b[0m\u001b[0m\n",
      "\u001b[0;31mInternalError\u001b[0m: Dst tensor is not initialized.\n\t [[{{node IteratorGetNext_4}}]]",
      "\nDuring handling of the above exception, another exception occurred:\n",
      "\u001b[0;31mInternalError\u001b[0m                             Traceback (most recent call last)",
      "\u001b[0;32m<ipython-input-12-bfe307063572>\u001b[0m in \u001b[0;36m<module>\u001b[0;34m\u001b[0m\n\u001b[1;32m      3\u001b[0m cf_model.fit(interactions=sparse_train_ratings,\n\u001b[1;32m      4\u001b[0m              \u001b[0muser_features\u001b[0m\u001b[0;34m=\u001b[0m\u001b[0muser_indicator_features\u001b[0m\u001b[0;34m,\u001b[0m\u001b[0;34m\u001b[0m\u001b[0;34m\u001b[0m\u001b[0m\n\u001b[0;32m----> 5\u001b[0;31m              item_features=item_indicator_features)\n\u001b[0m",
      "\u001b[0;32m~/MySoftware/anaconda3/envs/CV/lib/python3.6/site-packages/tensorrec/tensorrec.py\u001b[0m in \u001b[0;36mfit\u001b[0;34m(self, interactions, user_features, item_features, epochs, learning_rate, alpha, verbose, user_batch_size, n_sampled_items)\u001b[0m\n\u001b[1;32m    535\u001b[0m                          \u001b[0mverbose\u001b[0m\u001b[0;34m=\u001b[0m\u001b[0mverbose\u001b[0m\u001b[0;34m,\u001b[0m\u001b[0;34m\u001b[0m\u001b[0;34m\u001b[0m\u001b[0m\n\u001b[1;32m    536\u001b[0m                          \u001b[0muser_batch_size\u001b[0m\u001b[0;34m=\u001b[0m\u001b[0muser_batch_size\u001b[0m\u001b[0;34m,\u001b[0m\u001b[0;34m\u001b[0m\u001b[0;34m\u001b[0m\u001b[0m\n\u001b[0;32m--> 537\u001b[0;31m                          n_sampled_items=n_sampled_items)\n\u001b[0m\u001b[1;32m    538\u001b[0m \u001b[0;34m\u001b[0m\u001b[0m\n\u001b[1;32m    539\u001b[0m     def fit_partial(self, interactions, user_features, item_features, epochs=1, learning_rate=0.1,\n",
      "\u001b[0;32m~/MySoftware/anaconda3/envs/CV/lib/python3.6/site-packages/tensorrec/tensorrec.py\u001b[0m in \u001b[0;36mfit_partial\u001b[0;34m(self, interactions, user_features, item_features, epochs, learning_rate, alpha, verbose, user_batch_size, n_sampled_items)\u001b[0m\n\u001b[1;32m    620\u001b[0m                 \u001b[0msession\u001b[0m\u001b[0;34m.\u001b[0m\u001b[0mrun\u001b[0m\u001b[0;34m(\u001b[0m\u001b[0minitializers\u001b[0m\u001b[0;34m)\u001b[0m\u001b[0;34m\u001b[0m\u001b[0;34m\u001b[0m\u001b[0m\n\u001b[1;32m    621\u001b[0m                 \u001b[0;32mif\u001b[0m \u001b[0;32mnot\u001b[0m \u001b[0mverbose\u001b[0m\u001b[0;34m:\u001b[0m\u001b[0;34m\u001b[0m\u001b[0;34m\u001b[0m\u001b[0m\n\u001b[0;32m--> 622\u001b[0;31m                     \u001b[0msession\u001b[0m\u001b[0;34m.\u001b[0m\u001b[0mrun\u001b[0m\u001b[0;34m(\u001b[0m\u001b[0mself\u001b[0m\u001b[0;34m.\u001b[0m\u001b[0mtf_optimizer\u001b[0m\u001b[0;34m,\u001b[0m \u001b[0mfeed_dict\u001b[0m\u001b[0;34m=\u001b[0m\u001b[0mfeed_dict\u001b[0m\u001b[0;34m)\u001b[0m\u001b[0;34m\u001b[0m\u001b[0;34m\u001b[0m\u001b[0m\n\u001b[0m\u001b[1;32m    623\u001b[0m \u001b[0;34m\u001b[0m\u001b[0m\n\u001b[1;32m    624\u001b[0m                 \u001b[0;32melse\u001b[0m\u001b[0;34m:\u001b[0m\u001b[0;34m\u001b[0m\u001b[0;34m\u001b[0m\u001b[0m\n",
      "\u001b[0;32m~/MySoftware/anaconda3/envs/CV/lib/python3.6/site-packages/tensorflow/python/client/session.py\u001b[0m in \u001b[0;36mrun\u001b[0;34m(self, fetches, feed_dict, options, run_metadata)\u001b[0m\n\u001b[1;32m    948\u001b[0m     \u001b[0;32mtry\u001b[0m\u001b[0;34m:\u001b[0m\u001b[0;34m\u001b[0m\u001b[0;34m\u001b[0m\u001b[0m\n\u001b[1;32m    949\u001b[0m       result = self._run(None, fetches, feed_dict, options_ptr,\n\u001b[0;32m--> 950\u001b[0;31m                          run_metadata_ptr)\n\u001b[0m\u001b[1;32m    951\u001b[0m       \u001b[0;32mif\u001b[0m \u001b[0mrun_metadata\u001b[0m\u001b[0;34m:\u001b[0m\u001b[0;34m\u001b[0m\u001b[0;34m\u001b[0m\u001b[0m\n\u001b[1;32m    952\u001b[0m         \u001b[0mproto_data\u001b[0m \u001b[0;34m=\u001b[0m \u001b[0mtf_session\u001b[0m\u001b[0;34m.\u001b[0m\u001b[0mTF_GetBuffer\u001b[0m\u001b[0;34m(\u001b[0m\u001b[0mrun_metadata_ptr\u001b[0m\u001b[0;34m)\u001b[0m\u001b[0;34m\u001b[0m\u001b[0;34m\u001b[0m\u001b[0m\n",
      "\u001b[0;32m~/MySoftware/anaconda3/envs/CV/lib/python3.6/site-packages/tensorflow/python/client/session.py\u001b[0m in \u001b[0;36m_run\u001b[0;34m(self, handle, fetches, feed_dict, options, run_metadata)\u001b[0m\n\u001b[1;32m   1171\u001b[0m     \u001b[0;32mif\u001b[0m \u001b[0mfinal_fetches\u001b[0m \u001b[0;32mor\u001b[0m \u001b[0mfinal_targets\u001b[0m \u001b[0;32mor\u001b[0m \u001b[0;34m(\u001b[0m\u001b[0mhandle\u001b[0m \u001b[0;32mand\u001b[0m \u001b[0mfeed_dict_tensor\u001b[0m\u001b[0;34m)\u001b[0m\u001b[0;34m:\u001b[0m\u001b[0;34m\u001b[0m\u001b[0;34m\u001b[0m\u001b[0m\n\u001b[1;32m   1172\u001b[0m       results = self._do_run(handle, final_targets, final_fetches,\n\u001b[0;32m-> 1173\u001b[0;31m                              feed_dict_tensor, options, run_metadata)\n\u001b[0m\u001b[1;32m   1174\u001b[0m     \u001b[0;32melse\u001b[0m\u001b[0;34m:\u001b[0m\u001b[0;34m\u001b[0m\u001b[0;34m\u001b[0m\u001b[0m\n\u001b[1;32m   1175\u001b[0m       \u001b[0mresults\u001b[0m \u001b[0;34m=\u001b[0m \u001b[0;34m[\u001b[0m\u001b[0;34m]\u001b[0m\u001b[0;34m\u001b[0m\u001b[0;34m\u001b[0m\u001b[0m\n",
      "\u001b[0;32m~/MySoftware/anaconda3/envs/CV/lib/python3.6/site-packages/tensorflow/python/client/session.py\u001b[0m in \u001b[0;36m_do_run\u001b[0;34m(self, handle, target_list, fetch_list, feed_dict, options, run_metadata)\u001b[0m\n\u001b[1;32m   1348\u001b[0m     \u001b[0;32mif\u001b[0m \u001b[0mhandle\u001b[0m \u001b[0;32mis\u001b[0m \u001b[0;32mNone\u001b[0m\u001b[0;34m:\u001b[0m\u001b[0;34m\u001b[0m\u001b[0;34m\u001b[0m\u001b[0m\n\u001b[1;32m   1349\u001b[0m       return self._do_call(_run_fn, feeds, fetches, targets, options,\n\u001b[0;32m-> 1350\u001b[0;31m                            run_metadata)\n\u001b[0m\u001b[1;32m   1351\u001b[0m     \u001b[0;32melse\u001b[0m\u001b[0;34m:\u001b[0m\u001b[0;34m\u001b[0m\u001b[0;34m\u001b[0m\u001b[0m\n\u001b[1;32m   1352\u001b[0m       \u001b[0;32mreturn\u001b[0m \u001b[0mself\u001b[0m\u001b[0;34m.\u001b[0m\u001b[0m_do_call\u001b[0m\u001b[0;34m(\u001b[0m\u001b[0m_prun_fn\u001b[0m\u001b[0;34m,\u001b[0m \u001b[0mhandle\u001b[0m\u001b[0;34m,\u001b[0m \u001b[0mfeeds\u001b[0m\u001b[0;34m,\u001b[0m \u001b[0mfetches\u001b[0m\u001b[0;34m)\u001b[0m\u001b[0;34m\u001b[0m\u001b[0;34m\u001b[0m\u001b[0m\n",
      "\u001b[0;32m~/MySoftware/anaconda3/envs/CV/lib/python3.6/site-packages/tensorflow/python/client/session.py\u001b[0m in \u001b[0;36m_do_call\u001b[0;34m(self, fn, *args)\u001b[0m\n\u001b[1;32m   1368\u001b[0m           \u001b[0;32mpass\u001b[0m\u001b[0;34m\u001b[0m\u001b[0;34m\u001b[0m\u001b[0m\n\u001b[1;32m   1369\u001b[0m       \u001b[0mmessage\u001b[0m \u001b[0;34m=\u001b[0m \u001b[0merror_interpolation\u001b[0m\u001b[0;34m.\u001b[0m\u001b[0minterpolate\u001b[0m\u001b[0;34m(\u001b[0m\u001b[0mmessage\u001b[0m\u001b[0;34m,\u001b[0m \u001b[0mself\u001b[0m\u001b[0;34m.\u001b[0m\u001b[0m_graph\u001b[0m\u001b[0;34m)\u001b[0m\u001b[0;34m\u001b[0m\u001b[0;34m\u001b[0m\u001b[0m\n\u001b[0;32m-> 1370\u001b[0;31m       \u001b[0;32mraise\u001b[0m \u001b[0mtype\u001b[0m\u001b[0;34m(\u001b[0m\u001b[0me\u001b[0m\u001b[0;34m)\u001b[0m\u001b[0;34m(\u001b[0m\u001b[0mnode_def\u001b[0m\u001b[0;34m,\u001b[0m \u001b[0mop\u001b[0m\u001b[0;34m,\u001b[0m \u001b[0mmessage\u001b[0m\u001b[0;34m)\u001b[0m\u001b[0;34m\u001b[0m\u001b[0;34m\u001b[0m\u001b[0m\n\u001b[0m\u001b[1;32m   1371\u001b[0m \u001b[0;34m\u001b[0m\u001b[0m\n\u001b[1;32m   1372\u001b[0m   \u001b[0;32mdef\u001b[0m \u001b[0m_extend_graph\u001b[0m\u001b[0;34m(\u001b[0m\u001b[0mself\u001b[0m\u001b[0;34m)\u001b[0m\u001b[0;34m:\u001b[0m\u001b[0;34m\u001b[0m\u001b[0;34m\u001b[0m\u001b[0m\n",
      "\u001b[0;31mInternalError\u001b[0m: Dst tensor is not initialized.\n\t [[node IteratorGetNext_4 (defined at /home/longxiajun/MySoftware/anaconda3/envs/CV/lib/python3.6/site-packages/tensorrec/tensorrec.py:283) ]]\n\nErrors may have originated from an input operation.\nInput Source operations connected to node IteratorGetNext_4:\n IteratorV2_2 (defined at /home/longxiajun/MySoftware/anaconda3/envs/CV/lib/python3.6/site-packages/tensorrec/input_utils.py:18)\n\nOriginal stack trace for 'IteratorGetNext_4':\n  File \"/home/longxiajun/MySoftware/anaconda3/envs/CV/lib/python3.6/runpy.py\", line 193, in _run_module_as_main\n    \"__main__\", mod_spec)\n  File \"/home/longxiajun/MySoftware/anaconda3/envs/CV/lib/python3.6/runpy.py\", line 85, in _run_code\n    exec(code, run_globals)\n  File \"/home/longxiajun/MySoftware/anaconda3/envs/CV/lib/python3.6/site-packages/ipykernel_launcher.py\", line 16, in <module>\n    app.launch_new_instance()\n  File \"/home/longxiajun/MySoftware/anaconda3/envs/CV/lib/python3.6/site-packages/traitlets/config/application.py\", line 658, in launch_instance\n    app.start()\n  File \"/home/longxiajun/MySoftware/anaconda3/envs/CV/lib/python3.6/site-packages/ipykernel/kernelapp.py\", line 505, in start\n    self.io_loop.start()\n  File \"/home/longxiajun/MySoftware/anaconda3/envs/CV/lib/python3.6/site-packages/tornado/platform/asyncio.py\", line 148, in start\n    self.asyncio_loop.run_forever()\n  File \"/home/longxiajun/MySoftware/anaconda3/envs/CV/lib/python3.6/asyncio/base_events.py\", line 438, in run_forever\n    self._run_once()\n  File \"/home/longxiajun/MySoftware/anaconda3/envs/CV/lib/python3.6/asyncio/base_events.py\", line 1451, in _run_once\n    handle._run()\n  File \"/home/longxiajun/MySoftware/anaconda3/envs/CV/lib/python3.6/asyncio/events.py\", line 145, in _run\n    self._callback(*self._args)\n  File \"/home/longxiajun/MySoftware/anaconda3/envs/CV/lib/python3.6/site-packages/tornado/ioloop.py\", line 690, in <lambda>\n    lambda f: self._run_callback(functools.partial(callback, future))\n  File \"/home/longxiajun/MySoftware/anaconda3/envs/CV/lib/python3.6/site-packages/tornado/ioloop.py\", line 743, in _run_callback\n    ret = callback()\n  File \"/home/longxiajun/MySoftware/anaconda3/envs/CV/lib/python3.6/site-packages/tornado/gen.py\", line 787, in inner\n    self.run()\n  File \"/home/longxiajun/MySoftware/anaconda3/envs/CV/lib/python3.6/site-packages/tornado/gen.py\", line 748, in run\n    yielded = self.gen.send(value)\n  File \"/home/longxiajun/MySoftware/anaconda3/envs/CV/lib/python3.6/site-packages/ipykernel/kernelbase.py\", line 378, in dispatch_queue\n    yield self.process_one()\n  File \"/home/longxiajun/MySoftware/anaconda3/envs/CV/lib/python3.6/site-packages/tornado/gen.py\", line 225, in wrapper\n    runner = Runner(result, future, yielded)\n  File \"/home/longxiajun/MySoftware/anaconda3/envs/CV/lib/python3.6/site-packages/tornado/gen.py\", line 714, in __init__\n    self.run()\n  File \"/home/longxiajun/MySoftware/anaconda3/envs/CV/lib/python3.6/site-packages/tornado/gen.py\", line 748, in run\n    yielded = self.gen.send(value)\n  File \"/home/longxiajun/MySoftware/anaconda3/envs/CV/lib/python3.6/site-packages/ipykernel/kernelbase.py\", line 365, in process_one\n    yield gen.maybe_future(dispatch(*args))\n  File \"/home/longxiajun/MySoftware/anaconda3/envs/CV/lib/python3.6/site-packages/tornado/gen.py\", line 209, in wrapper\n    yielded = next(result)\n  File \"/home/longxiajun/MySoftware/anaconda3/envs/CV/lib/python3.6/site-packages/ipykernel/kernelbase.py\", line 272, in dispatch_shell\n    yield gen.maybe_future(handler(stream, idents, msg))\n  File \"/home/longxiajun/MySoftware/anaconda3/envs/CV/lib/python3.6/site-packages/tornado/gen.py\", line 209, in wrapper\n    yielded = next(result)\n  File \"/home/longxiajun/MySoftware/anaconda3/envs/CV/lib/python3.6/site-packages/ipykernel/kernelbase.py\", line 542, in execute_request\n    user_expressions, allow_stdin,\n  File \"/home/longxiajun/MySoftware/anaconda3/envs/CV/lib/python3.6/site-packages/tornado/gen.py\", line 209, in wrapper\n    yielded = next(result)\n  File \"/home/longxiajun/MySoftware/anaconda3/envs/CV/lib/python3.6/site-packages/ipykernel/ipkernel.py\", line 294, in do_execute\n    res = shell.run_cell(code, store_history=store_history, silent=silent)\n  File \"/home/longxiajun/MySoftware/anaconda3/envs/CV/lib/python3.6/site-packages/ipykernel/zmqshell.py\", line 536, in run_cell\n    return super(ZMQInteractiveShell, self).run_cell(*args, **kwargs)\n  File \"/home/longxiajun/MySoftware/anaconda3/envs/CV/lib/python3.6/site-packages/IPython/core/interactiveshell.py\", line 2854, in run_cell\n    raw_cell, store_history, silent, shell_futures)\n  File \"/home/longxiajun/MySoftware/anaconda3/envs/CV/lib/python3.6/site-packages/IPython/core/interactiveshell.py\", line 2880, in _run_cell\n    return runner(coro)\n  File \"/home/longxiajun/MySoftware/anaconda3/envs/CV/lib/python3.6/site-packages/IPython/core/async_helpers.py\", line 68, in _pseudo_sync_runner\n    coro.send(None)\n  File \"/home/longxiajun/MySoftware/anaconda3/envs/CV/lib/python3.6/site-packages/IPython/core/interactiveshell.py\", line 3057, in run_cell_async\n    interactivity=interactivity, compiler=compiler, result=result)\n  File \"/home/longxiajun/MySoftware/anaconda3/envs/CV/lib/python3.6/site-packages/IPython/core/interactiveshell.py\", line 3248, in run_ast_nodes\n    if (await self.run_code(code, result,  async_=asy)):\n  File \"/home/longxiajun/MySoftware/anaconda3/envs/CV/lib/python3.6/site-packages/IPython/core/interactiveshell.py\", line 3325, in run_code\n    exec(code_obj, self.user_global_ns, self.user_ns)\n  File \"<ipython-input-12-bfe307063572>\", line 5, in <module>\n    item_features=item_indicator_features)\n  File \"/home/longxiajun/MySoftware/anaconda3/envs/CV/lib/python3.6/site-packages/tensorrec/tensorrec.py\", line 537, in fit\n    n_sampled_items=n_sampled_items)\n  File \"/home/longxiajun/MySoftware/anaconda3/envs/CV/lib/python3.6/site-packages/tensorrec/tensorrec.py\", line 605, in fit_partial\n    self._build_tf_graph(n_user_features=n_user_features, n_item_features=n_item_features)\n  File \"/home/longxiajun/MySoftware/anaconda3/envs/CV/lib/python3.6/site-packages/tensorrec/tensorrec.py\", line 283, in _build_tf_graph\n    self.tf_interaction_iterator.get_next()\n  File \"/home/longxiajun/MySoftware/anaconda3/envs/CV/lib/python3.6/site-packages/tensorflow/python/data/ops/iterator_ops.py\", line 426, in get_next\n    output_shapes=self._structure._flat_shapes, name=name)\n  File \"/home/longxiajun/MySoftware/anaconda3/envs/CV/lib/python3.6/site-packages/tensorflow/python/ops/gen_dataset_ops.py\", line 1947, in iterator_get_next\n    output_shapes=output_shapes, name=name)\n  File \"/home/longxiajun/MySoftware/anaconda3/envs/CV/lib/python3.6/site-packages/tensorflow/python/framework/op_def_library.py\", line 788, in _apply_op_helper\n    op_def=op_def)\n  File \"/home/longxiajun/MySoftware/anaconda3/envs/CV/lib/python3.6/site-packages/tensorflow/python/util/deprecation.py\", line 507, in new_func\n    return func(*args, **kwargs)\n  File \"/home/longxiajun/MySoftware/anaconda3/envs/CV/lib/python3.6/site-packages/tensorflow/python/framework/ops.py\", line 3616, in create_op\n    op_def=op_def)\n  File \"/home/longxiajun/MySoftware/anaconda3/envs/CV/lib/python3.6/site-packages/tensorflow/python/framework/ops.py\", line 2005, in __init__\n    self._traceback = tf_stack.extract_stack()\n"
     ]
    }
   ],
   "source": [
    "# Fit the collaborative filter model\n",
    "print(\"Training collaborative filter\")\n",
    "cf_model.fit(interactions=sparse_train_ratings,\n",
    "             user_features=user_indicator_features,\n",
    "             item_features=item_indicator_features)"
   ]
  },
  {
   "cell_type": "code",
   "execution_count": null,
   "metadata": {
    "ExecuteTime": {
     "end_time": "2019-07-16T08:27:46.985676Z",
     "start_time": "2019-07-16T08:25:37.939Z"
    }
   },
   "outputs": [],
   "source": [
    "# Create sets of train/test interactions that are only ratings >= 4.0\n",
    "sparse_train_ratings_4plus = sparse_train_ratings.multiply(sparse_train_ratings >= 4.0)\n",
    "sparse_test_ratings_4plus = sparse_test_ratings.multiply(sparse_test_ratings >= 4.0)"
   ]
  },
  {
   "cell_type": "code",
   "execution_count": null,
   "metadata": {
    "ExecuteTime": {
     "end_time": "2019-07-16T08:27:46.986372Z",
     "start_time": "2019-07-16T08:25:37.942Z"
    }
   },
   "outputs": [],
   "source": [
    "# This method consumes item ranks for each user and prints out recall@10 train/test metrics\n",
    "def check_results(ranks):\n",
    "    train_recall_at_10 = tensorrec.eval.recall_at_k(\n",
    "        test_interactions=sparse_train_ratings_4plus,\n",
    "        predicted_ranks=ranks,\n",
    "        k=10\n",
    "    ).mean()\n",
    "    test_recall_at_10 = tensorrec.eval.recall_at_k(\n",
    "        test_interactions=sparse_test_ratings_4plus,\n",
    "        predicted_ranks=ranks,\n",
    "        k=10\n",
    "    ).mean()\n",
    "    print(\"Recall at 10: Train: {:.4f} Test: {:.4f}\".format(train_recall_at_10,\n",
    "                                                            test_recall_at_10))"
   ]
  },
  {
   "cell_type": "code",
   "execution_count": null,
   "metadata": {
    "ExecuteTime": {
     "end_time": "2019-07-16T08:27:46.986956Z",
     "start_time": "2019-07-16T08:25:37.944Z"
    }
   },
   "outputs": [],
   "source": [
    "# Check the results of the MF CF model\n",
    "print(\"Matrix factorization collaborative filter:\")\n",
    "predicted_ranks = cf_model.predict_rank(user_features=user_indicator_features,\n",
    "                                        item_features=item_indicator_features)\n",
    "check_results(predicted_ranks)"
   ]
  },
  {
   "cell_type": "code",
   "execution_count": null,
   "metadata": {
    "ExecuteTime": {
     "end_time": "2019-07-16T08:27:46.987529Z",
     "start_time": "2019-07-16T08:25:37.946Z"
    }
   },
   "outputs": [],
   "source": [
    "# Let's try a new loss function: WMRB\n",
    "print(\"Training collaborative filter with WMRB loss\")\n",
    "ranking_cf_model = tensorrec.TensorRec(n_components=5,\n",
    "                                       loss_graph=tensorrec.loss_graphs.WMRBLossGraph())\n",
    "ranking_cf_model.fit(interactions=sparse_train_ratings_4plus,\n",
    "                     user_features=user_indicator_features,\n",
    "                     item_features=item_indicator_features,\n",
    "                     n_sampled_items=int(n_items * .01))\n",
    "\n",
    "# Check the results of the WMRB MF CF model\n",
    "print(\"WMRB matrix factorization collaborative filter:\")\n",
    "predicted_ranks = ranking_cf_model.predict_rank(user_features=user_indicator_features,\n",
    "                                                item_features=item_indicator_features)\n",
    "check_results(predicted_ranks)"
   ]
  },
  {
   "cell_type": "code",
   "execution_count": null,
   "metadata": {
    "ExecuteTime": {
     "end_time": "2019-07-16T08:27:46.988099Z",
     "start_time": "2019-07-16T08:25:37.947Z"
    }
   },
   "outputs": [],
   "source": [
    "# To improve the recommendations, lets read in the movie genres\n",
    "print('Loading movie metadata')\n",
    "with open('./tmp/dataset/ml-20m/movies.csv', 'r') as movies_file:\n",
    "    movies_file_reader = csv.reader(movies_file)\n",
    "    raw_movie_metadata = list(movies_file_reader)\n",
    "    raw_movie_metadata_header = raw_movie_metadata.pop(0)"
   ]
  },
  {
   "cell_type": "code",
   "execution_count": null,
   "metadata": {
    "ExecuteTime": {
     "end_time": "2019-07-16T08:27:46.988693Z",
     "start_time": "2019-07-16T08:25:37.949Z"
    }
   },
   "outputs": [],
   "source": [
    "# Map the MovieLens IDs to our internal IDs and keep track of the genres and titles\n",
    "movie_genres_by_internal_id = {}\n",
    "movie_titles_by_internal_id = {}\n",
    "for row in raw_movie_metadata:\n",
    "    row[0] = movielens_to_internal_item_ids[int(row[0])]  # Map to IDs\n",
    "    row[2] = row[2].split('|')  # Split up the genres\n",
    "    movie_genres_by_internal_id[row[0]] = row[2]\n",
    "    movie_titles_by_internal_id[row[0]] = row[1]\n",
    "\n",
    "# Look at an example movie metadata row\n",
    "print(\"Raw metadata example:\\n{}\\n{}\".format(raw_movie_metadata_header,\n",
    "                                             raw_movie_metadata[0]))\n"
   ]
  },
  {
   "cell_type": "code",
   "execution_count": null,
   "metadata": {
    "ExecuteTime": {
     "end_time": "2019-07-16T08:27:46.989280Z",
     "start_time": "2019-07-16T08:25:37.951Z"
    }
   },
   "outputs": [],
   "source": [
    "# Build a list of genres where the index is the internal movie ID and\n",
    "# the value is a list of [Genre, Genre, ...]\n",
    "movie_genres = [movie_genres_by_internal_id[internal_id]\n",
    "                for internal_id in range(n_items)]\n",
    "\n",
    "# Transform the genres into binarized labels using scikit's MultiLabelBinarizer\n",
    "movie_genre_features = MultiLabelBinarizer().fit_transform(movie_genres)\n",
    "n_genres = movie_genre_features.shape[1]\n",
    "print(\"Binarized genres example for movie {}:\\n{}\".format(movie_titles_by_internal_id[0],\n",
    "                                                          movie_genre_features[0]))"
   ]
  },
  {
   "cell_type": "code",
   "execution_count": null,
   "metadata": {
    "ExecuteTime": {
     "end_time": "2019-07-16T08:27:46.989908Z",
     "start_time": "2019-07-16T08:25:37.952Z"
    }
   },
   "outputs": [],
   "source": [
    "\n",
    "# Coerce the movie genre features to a sparse matrix, which TensorRec expects\n",
    "movie_genre_features = sparse.coo_matrix(movie_genre_features)\n",
    "\n",
    "# Fit a content-based model using the genres as item features\n",
    "print(\"Training content-based recommender\")\n",
    "content_model = tensorrec.TensorRec(\n",
    "    n_components=n_genres,\n",
    "    item_repr_graph=tensorrec.representation_graphs.FeaturePassThroughRepresentationGraph(),\n",
    "    loss_graph=tensorrec.loss_graphs.WMRBLossGraph()\n",
    ")\n",
    "content_model.fit(interactions=sparse_train_ratings_4plus,\n",
    "                  user_features=user_indicator_features,\n",
    "                  item_features=movie_genre_features,\n",
    "                  n_sampled_items=int(n_items * .01))\n",
    "\n",
    "# Check the results of the content-based model\n",
    "print(\"Content-based recommender:\")\n",
    "predicted_ranks = content_model.predict_rank(user_features=user_indicator_features,\n",
    "                                             item_features=movie_genre_features)\n",
    "check_results(predicted_ranks)"
   ]
  },
  {
   "cell_type": "code",
   "execution_count": null,
   "metadata": {
    "ExecuteTime": {
     "end_time": "2019-07-16T08:27:46.990517Z",
     "start_time": "2019-07-16T08:25:37.954Z"
    }
   },
   "outputs": [],
   "source": [
    "# Try concatenating the genres on to the indicator features for a hybrid recommender system\n",
    "full_item_features = sparse.hstack([item_indicator_features, movie_genre_features])\n",
    "\n",
    "print(\"Training hybrid recommender\")\n",
    "hybrid_model = tensorrec.TensorRec(\n",
    "    n_components=5,\n",
    "    loss_graph=tensorrec.loss_graphs.WMRBLossGraph()\n",
    ")\n",
    "hybrid_model.fit(interactions=sparse_train_ratings_4plus,\n",
    "                 user_features=user_indicator_features,\n",
    "                 item_features=full_item_features,\n",
    "                 n_sampled_items=int(n_items * .01))\n",
    "\n",
    "print(\"Hybrid recommender:\")\n",
    "predicted_ranks = hybrid_model.predict_rank(user_features=user_indicator_features,\n",
    "                                            item_features=full_item_features)\n",
    "check_results(predicted_ranks)\n"
   ]
  },
  {
   "cell_type": "code",
   "execution_count": null,
   "metadata": {
    "ExecuteTime": {
     "end_time": "2019-07-16T08:27:46.991109Z",
     "start_time": "2019-07-16T08:25:37.956Z"
    }
   },
   "outputs": [],
   "source": [
    "# Print out movies that User #432 has liked\n",
    "print(\"User 432 liked:\")\n",
    "for m in sparse_train_ratings_4plus[432].indices:\n",
    "    print(movie_titles_by_internal_id[m])"
   ]
  },
  {
   "cell_type": "code",
   "execution_count": null,
   "metadata": {
    "ExecuteTime": {
     "end_time": "2019-07-16T08:27:46.991677Z",
     "start_time": "2019-07-16T08:25:37.958Z"
    }
   },
   "outputs": [],
   "source": [
    "# Pull user 432's features out of the user features matrix and predict movie ranks for just that user\n",
    "u432_features = sparse.csr_matrix(user_indicator_features)[432]\n",
    "u432_rankings = hybrid_model.predict_rank(user_features=u432_features,\n",
    "                                          item_features=full_item_features)[0]\n",
    "\n",
    "# Get internal IDs of User 432's top 10 recommendations\n",
    "# These are sorted by item ID, not by rank\n",
    "# This may contain items with which User 432 has already interacted\n",
    "u432_top_ten_recs = numpy.where(u432_rankings <= 10)[0]\n",
    "print(\"User 432 recommendations:\")\n",
    "for m in u432_top_ten_recs:\n",
    "    print(movie_titles_by_internal_id[m])"
   ]
  },
  {
   "cell_type": "code",
   "execution_count": null,
   "metadata": {
    "ExecuteTime": {
     "end_time": "2019-07-16T08:27:46.992253Z",
     "start_time": "2019-07-16T08:25:37.961Z"
    }
   },
   "outputs": [],
   "source": [
    "# Print out User 432's held-out interactions\n",
    "print(\"User 432's held-out movies:\")\n",
    "for m in sparse_test_ratings_4plus[432].indices:\n",
    "    print(movie_titles_by_internal_id[m])"
   ]
  }
 ],
 "metadata": {
  "kernelspec": {
   "display_name": "Python 3",
   "language": "python",
   "name": "python3"
  },
  "language_info": {
   "codemirror_mode": {
    "name": "ipython",
    "version": 3
   },
   "file_extension": ".py",
   "mimetype": "text/x-python",
   "name": "python",
   "nbconvert_exporter": "python",
   "pygments_lexer": "ipython3",
   "version": "3.6.8"
  },
  "toc": {
   "base_numbering": 1,
   "nav_menu": {},
   "number_sections": true,
   "sideBar": true,
   "skip_h1_title": false,
   "title_cell": "Table of Contents",
   "title_sidebar": "Contents",
   "toc_cell": false,
   "toc_position": {},
   "toc_section_display": true,
   "toc_window_display": false
  },
  "varInspector": {
   "cols": {
    "lenName": 16,
    "lenType": 16,
    "lenVar": 40
   },
   "kernels_config": {
    "python": {
     "delete_cmd_postfix": "",
     "delete_cmd_prefix": "del ",
     "library": "var_list.py",
     "varRefreshCmd": "print(var_dic_list())"
    },
    "r": {
     "delete_cmd_postfix": ") ",
     "delete_cmd_prefix": "rm(",
     "library": "var_list.r",
     "varRefreshCmd": "cat(var_dic_list()) "
    }
   },
   "types_to_exclude": [
    "module",
    "function",
    "builtin_function_or_method",
    "instance",
    "_Feature"
   ],
   "window_display": false
  }
 },
 "nbformat": 4,
 "nbformat_minor": 2
}
