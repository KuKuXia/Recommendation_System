{
 "cells": [
  {
   "cell_type": "markdown",
   "metadata": {},
   "source": [
    "# Product Recommender Using Multi-Armed Bandit Algorithms"
   ]
  },
  {
   "cell_type": "code",
   "execution_count": 1,
   "metadata": {
    "ExecuteTime": {
     "end_time": "2019-07-15T05:03:24.748129Z",
     "start_time": "2019-07-15T05:03:24.262894Z"
    }
   },
   "outputs": [],
   "source": [
    "# Import packages\n",
    "import random\n",
    "import numpy as np\n",
    "import scipy.stats as stats\n",
    "import seaborn as sns\n",
    "import matplotlib.pyplot as plt\n",
    "import pandas as pd"
   ]
  },
  {
   "cell_type": "code",
   "execution_count": 2,
   "metadata": {
    "ExecuteTime": {
     "end_time": "2019-07-15T05:03:24.752754Z",
     "start_time": "2019-07-15T05:03:24.749358Z"
    }
   },
   "outputs": [],
   "source": [
    "class Bandit:\n",
    "    \"\"\"A useful class containing the multi-armed bandit and all its actions.\n",
    "\n",
    "    Attributes:\n",
    "        actions The actions that can be performed, numbered automatically 0, 1, 2...\n",
    "        payoff_probs    The underlying pay-off probabilities for each action.\n",
    "    \"\"\"\n",
    "\n",
    "    def __init__(self, payoff_probs):\n",
    "        self.actions = range(len(payoff_probs))\n",
    "        self.payoff_probs = payoff_probs\n",
    "\n",
    "    def sample(self, action):\n",
    "        \n",
    "        \"\"\"Sample from the multi-armed by performing an action.\n",
    "\n",
    "        Args:\n",
    "            action (int): The action performed on the multi-armed bandit.\n",
    "        Returns:\n",
    "            int: It returns a reward based on that arm's pay-off probability.\n",
    "        \"\"\"\n",
    "    \n",
    "        selector = random.random()\n",
    "        # We are going to keep it simple with 1 or 0 being the only rewards\n",
    "        return 1 if selector <= self.payoff_probs[action] else 0"
   ]
  },
  {
   "cell_type": "code",
   "execution_count": 3,
   "metadata": {
    "ExecuteTime": {
     "end_time": "2019-07-15T05:03:24.761494Z",
     "start_time": "2019-07-15T05:03:24.753647Z"
    }
   },
   "outputs": [],
   "source": [
    "def random_agent(bandit, iterations):\n",
    "    \"\"\"Randomly select an action and reward.\"\"\"\n",
    "\n",
    "    for i in range(iterations):\n",
    "        a = random.choice(bandit.actions)\n",
    "        r = bandit.sample(a)\n",
    "        yield a, r"
   ]
  },
  {
   "cell_type": "code",
   "execution_count": 4,
   "metadata": {
    "ExecuteTime": {
     "end_time": "2019-07-15T05:03:24.767559Z",
     "start_time": "2019-07-15T05:03:24.762613Z"
    }
   },
   "outputs": [],
   "source": [
    "def optimal_agent(bandit, iterations):\n",
    "    \"\"\"Select the best action by taking a sneak-peek at the bandit's probabilities.\"\"\"\n",
    "\n",
    "    for i in range(iterations):\n",
    "        a = bandit.payoff_probs.index(max(bandit.payoff_probs))\n",
    "        r = bandit.sample(a)\n",
    "        yield a, r"
   ]
  },
  {
   "cell_type": "code",
   "execution_count": 5,
   "metadata": {
    "ExecuteTime": {
     "end_time": "2019-07-15T05:03:24.774424Z",
     "start_time": "2019-07-15T05:03:24.768767Z"
    }
   },
   "outputs": [],
   "source": [
    "def initial_explore_agent(bandit, iterations, initial_rounds=10):\n",
    "    \"\"\"\n",
    "    Initially explore initial_rounds times and then stick to the best action.\n",
    "    \"\"\"\n",
    "    pay_offs = dict()\n",
    "    best_action = -1\n",
    "    \n",
    "    for i in range(iterations):\n",
    "        # for the initial rounds pick a random action\n",
    "        if i < initial_rounds:\n",
    "            a = random.choice(bandit.actions)\n",
    "            r = bandit.sample(a)\n",
    "            \n",
    "            # Update rewards\n",
    "            if a in pay_offs:\n",
    "                pay_offs[a].append(r)\n",
    "            else:\n",
    "                pay_offs[a] = [r]\n",
    "        # otherwise pick the best one thus far\n",
    "        else:\n",
    "            if (best_action == -1):\n",
    "                # check for the action with the best average payoff\n",
    "                mean_dict = {}\n",
    "                for key, val in pay_offs.items():\n",
    "                    mean_dict[key] = np.mean(val)\n",
    "                best_action = max(mean_dict, key=mean_dict.get)\n",
    "            a = best_action\n",
    "            r = bandit.sample(a)\n",
    "        yield a, r"
   ]
  },
  {
   "cell_type": "markdown",
   "metadata": {},
   "source": [
    "## Epsilon Greedy\n",
    "\n",
    "The epsilon greedy algorithm allow you to only explore random actions with epsilon probability. Otherwise, with the probability of 1-epsilon, you pick the action with the best average payoff.\n",
    "\n",
    "The reasoning behind this approach is that for a portion of the time the algorithm randomly explores the available actions, but it still exploits the best action the majority of the time."
   ]
  },
  {
   "cell_type": "code",
   "execution_count": 6,
   "metadata": {
    "ExecuteTime": {
     "end_time": "2019-07-15T05:03:24.782820Z",
     "start_time": "2019-07-15T05:03:24.777323Z"
    }
   },
   "outputs": [],
   "source": [
    "def epsilon_greedy_agent(\n",
    "        bandit,\n",
    "        iteractions,\n",
    "        epsilon=0.2,\n",
    "        initial_rounds=1,\n",
    "):\n",
    "    \"\"\"\n",
    "    Use the epsilon-greedy algorithm by performing the actioon with the bset average payoff with the probability(1-epsilon), otherwise pick a random action to keep exploring.\n",
    "\n",
    "    \"\"\"\n",
    "\n",
    "    pay_offs = dict()\n",
    "    for i in range(iteractions):\n",
    "        # Sometimes randomly pick an action to explore\n",
    "        if random.random() < epsilon or i < initial_rounds:\n",
    "            a = random.choice(bandit.actions)\n",
    "\n",
    "        # otherwise pick the best one thus far\n",
    "        else:\n",
    "            new_dict = {}\n",
    "            for key, val in pay_offs.items():\n",
    "                new_dict[key] = np.mean(val)\n",
    "            a = max(new_dict, key=new_dict.get)\n",
    "        r = bandit.sample(a)\n",
    "\n",
    "        # Update rewards\n",
    "        if a in pay_offs:\n",
    "            pay_offs[a].append(r)\n",
    "        else:\n",
    "            pay_offs[a] = [r]\n",
    "\n",
    "        yield a, r"
   ]
  },
  {
   "cell_type": "code",
   "execution_count": 7,
   "metadata": {
    "ExecuteTime": {
     "end_time": "2019-07-15T05:03:24.789617Z",
     "start_time": "2019-07-15T05:03:24.784496Z"
    }
   },
   "outputs": [],
   "source": [
    "def decaying_epsilon_greedy_agent(bandit,\n",
    "                         iteractions,\n",
    "                         epsilon=0.2,\n",
    "                         initial_rounds=1,\n",
    "                         decay=0.99):\n",
    "    \"\"\"\n",
    "    Use the decaying epsilon-greedy algorithm by performing the actioon with the bset average payoff with the probability(1-epsilon), otherwise pick a random action to keep exploring.\n",
    "    \n",
    "    \"\"\"\n",
    "\n",
    "    pay_offs = dict()\n",
    "    for i in range(iteractions):\n",
    "        # Sometimes randomly pick an action to explore\n",
    "        if random.random() < epsilon or i < initial_rounds:\n",
    "            a = random.choice(bandit.actions)\n",
    "\n",
    "        # otherwise pick the best one thus far\n",
    "        else:\n",
    "            new_dict = {}\n",
    "            for key, val in pay_offs.items():\n",
    "                new_dict[key] = np.mean(val)\n",
    "            a = max(new_dict, key=new_dict.get)\n",
    "        r = bandit.sample(a)\n",
    "\n",
    "        # Update rewards\n",
    "        if a in pay_offs:\n",
    "            pay_offs[a].append(r)\n",
    "        else:\n",
    "            pay_offs[a] = [r]\n",
    "\n",
    "        epsilon *= decay\n",
    "\n",
    "        yield a, r"
   ]
  },
  {
   "cell_type": "code",
   "execution_count": 8,
   "metadata": {
    "ExecuteTime": {
     "end_time": "2019-07-15T05:03:58.621067Z",
     "start_time": "2019-07-15T05:03:24.791128Z"
    }
   },
   "outputs": [
    {
     "name": "stdout",
     "output_type": "stream",
     "text": [
      "random_agent : 48.795\n",
      "initial_explore_agent : 65.159\n",
      "epsilon_greedy_agent : 74.698\n",
      "decaying_epsilon_greedy_agent : 73.715\n",
      "optimal_agent : 100.301\n"
     ]
    },
    {
     "data": {
      "image/png": "[encoded data removed]",
      "text/plain": [
       "<Figure size 432x288 with 1 Axes>"
      ]
     },
     "metadata": {
      "needs_background": "light"
     },
     "output_type": "display_data"
    }
   ],
   "source": [
    "def main():\n",
    "    random.seed(200) #used for reproducibility\n",
    "\n",
    "    pay_offs = [0.25, 0.3, 0.5, 0.1, 0.3, 0.25, 0]\n",
    "    bandit = Bandit(pay_offs)\n",
    "\n",
    "    f = plt.figure()\n",
    "    \n",
    "    methods = [random_agent, initial_explore_agent, epsilon_greedy_agent, decaying_epsilon_greedy_agent, optimal_agent]\n",
    "\n",
    "    number_of_iterations = 200\n",
    "    number_of_trials = 1000\n",
    "\n",
    "    for m in range(len(methods)):\n",
    "        method = methods[m]\n",
    "        total_rewards = []\n",
    "\n",
    "        list_of_cumulative_rewards = []\n",
    "        fan = []\n",
    "\n",
    "        for trial in range(number_of_trials):\n",
    "            total_reward = 0\n",
    "            cumulative_reward = []\n",
    "\n",
    "            for a, r in method(bandit, number_of_iterations):\n",
    "                total_reward += r\n",
    "                cumulative_reward.append(total_reward)\n",
    "\n",
    "\n",
    "            #plt.plot(cumulative_reward, alpha=.02, color=colors[m])\n",
    "            total_rewards.append(total_reward)\n",
    "\n",
    "            if trial == 0:\n",
    "                fan = pd.DataFrame(cumulative_reward, columns=['y'])\n",
    "                fan['x'] = fan.index+1\n",
    "            else:\n",
    "                fan2 = pd.DataFrame(cumulative_reward, columns=['y'])\n",
    "                fan2['x'] = fan2.index+1\n",
    "\n",
    "                fan = fan.append(fan2, ignore_index=True)\n",
    "\n",
    "            list_of_cumulative_rewards.append(cumulative_reward)\n",
    "\n",
    "        sns.lineplot(x='x', y='y', data=fan)  #default is to use bootstrap to calculate confidence interval     \n",
    "        \n",
    "        print(method.__name__, \":\", np.mean(total_rewards))\n",
    "\n",
    "    plt.title(\"Cumulative reward for each algorithm over {} iterations with {} trials.\".format(number_of_iterations, number_of_trials))\n",
    "    plt.ylabel(\"Cumulative reward\")\n",
    "    plt.xlabel(\"Iterations\")\n",
    "    plt.legend([method.__name__ for method in methods])\n",
    "    \n",
    "    f.savefig(\"./tmp/Iterations.pdf\", bbox_inches='tight')\n",
    "    f.savefig(\"./tmp/Iterations.svg\", bbox_inches='tight')\n",
    "\n",
    "    plt.show()\n",
    "\n",
    "if __name__ == \"__main__\":\n",
    "    main()\n"
   ]
  }
 ],
 "metadata": {
  "kernelspec": {
   "display_name": "Python 3",
   "language": "python",
   "name": "python3"
  },
  "language_info": {
   "codemirror_mode": {
    "name": "ipython",
    "version": 3
   },
   "file_extension": ".py",
   "mimetype": "text/x-python",
   "name": "python",
   "nbconvert_exporter": "python",
   "pygments_lexer": "ipython3",
   "version": "3.6.8"
  },
  "toc": {
   "base_numbering": 1,
   "nav_menu": {},
   "number_sections": true,
   "sideBar": true,
   "skip_h1_title": false,
   "title_cell": "Table of Contents",
   "title_sidebar": "Contents",
   "toc_cell": false,
   "toc_position": {},
   "toc_section_display": true,
   "toc_window_display": false
  },
  "varInspector": {
   "cols": {
    "lenName": 16,
    "lenType": 16,
    "lenVar": 40
   },
   "kernels_config": {
    "python": {
     "delete_cmd_postfix": "",
     "delete_cmd_prefix": "del ",
     "library": "var_list.py",
     "varRefreshCmd": "print(var_dic_list())"
    },
    "r": {
     "delete_cmd_postfix": ") ",
     "delete_cmd_prefix": "rm(",
     "library": "var_list.r",
     "varRefreshCmd": "cat(var_dic_list()) "
    }
   },
   "types_to_exclude": [
    "module",
    "function",
    "builtin_function_or_method",
    "instance",
    "_Feature"
   ],
   "window_display": false
  }
 },
 "nbformat": 4,
 "nbformat_minor": 2
}
